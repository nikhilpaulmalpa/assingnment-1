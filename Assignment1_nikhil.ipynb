{
  "nbformat": 4,
  "nbformat_minor": 0,
  "metadata": {
    "colab": {
      "provenance": []
    },
    "kernelspec": {
      "name": "python3",
      "display_name": "Python 3"
    },
    "language_info": {
      "name": "python"
    }
  },
  "cells": [
    {
      "cell_type": "markdown",
      "source": [
        "# Python Basics Questions"
      ],
      "metadata": {
        "id": "Gt70GDjeyxQA"
      }
    },
    {
      "cell_type": "markdown",
      "source": [
        "1. What is Python, and why is it popular?\n",
        "  - Python is a high-level programming language known for its simplicity and readability. It is versatile and widely used in fields such as web development, data science, machine learning, and more.\n",
        "\n",
        "2. What is an interpreter in Python?\n",
        "  - An interpreter in Python is a tool that executes code line by line. Unlike a compiler, which converts the entire program into machine code before execution, the interpreter processes each line as it runs. This approach simplifies error detection and debugging during development.\n",
        "\n",
        "3. What are pre-defined keywords in Python?\n",
        "  - Predefined keywords in Python are reserved words with specific meanings that cannot be used as variable names. These keywords are integral to the Python language and define its syntax and structure. Examples include `if`, `else`, `for`, `while`, `import`, and `def`. They are used to control program flow, define loops, functions, and other fundamental programming constructs.\n",
        "\n",
        "4. Can keywords be used as variable names?\n",
        "  - No, keywords cannot be used as variable names in Python because they are reserved for specific purposes and have predefined meanings within the language.\n",
        "\n",
        "5. What is mutability in Python?\n",
        "  - Mutability in Python describes whether an object can be modified after its creation. Mutable objects, such as lists, can be changed, whereas immutable objects, like strings and tuples, cannot be altered once they are created.\n",
        "\n",
        "6. Why are lists mutable, but tuples are immutable?\n",
        "  - Lists are mutable, meaning their content can be changed by adding, removing, or modifying items. Tuples, on the other hand, are immutable, ensuring their values remain constant. This immutability makes tuples ideal for scenarios where data integrity is essential and should not be altered.\n",
        "\n",
        "7. What is the difference between “==” and “is” operators in Python?\n",
        "  - The `==` operator checks whether two values are equal, while the `is` operator checks whether two variables refer to the same object in memory.\n",
        "\n",
        "8. What are logical operators in Python?\n",
        "  Logical operators in Python are used to combine conditions:  \n",
        "  - **and**: Returns `True` if both conditions are true.  \n",
        "  - **or**: Returns `True` if at least one condition is true.  \n",
        "  - **not**: Reverses the result of a condition (`True` becomes `False`).\n",
        "\n",
        "9. What is type casting in Python?\n",
        "  - Type casting in Python refers to converting one data type into another, such as transforming a string into an integer or a float into an integer. This can be achieved using functions like `int()`, `float()`, or `str()` to ensure compatibility between different data types.\n",
        "\n",
        "10. What is the difference between implicit and explicit type casting?\n",
        "  - **Implicit type casting** occurs when Python automatically converts data types, such as converting an `int` to a `float`.  \n",
        "  - **Explicit type casting** is when you manually convert data types using functions like `int()`, `float()`, or `str()`, allowing for greater control over the conversion process.\n",
        "\n",
        "11. What is the purpose of conditional statements in Python?\n",
        "  - Conditional statements in Python allow your program to make decisions based on certain conditions. They execute specific code when a condition is true, using `if`, `elif`, and `else` to control the program’s flow according to the given logic.\n",
        "\n",
        "12. How does the elif statement work?\n",
        "  - The **elif** statement in Python checks an additional condition if the initial **if** condition is false. It executes its block of code only when its condition is true. You can use multiple **elif** statements to handle different conditions or choices in a program.\n",
        "\n",
        "13. What is the difference between for and while loops?\n",
        "  - A **for loop** repeats a set of instructions a specific number of times, often using a `range` or a list.  \n",
        "  - A **while loop** continues to execute as long as a condition remains true, making it ideal for situations where the number of repetitions is uncertain.\n",
        "\n",
        "14. Describe a scenario where a while loop is more suitable than a for loop.\n",
        "  - A **while loop** is ideal when the number of repetitions is unknown, such as when waiting for user input to meet a specific condition. It continues to execute as long as the condition remains true.\n"
      ],
      "metadata": {
        "id": "9DS471tDj_Ni"
      }
    },
    {
      "cell_type": "markdown",
      "source": [
        "# Practical Questions"
      ],
      "metadata": {
        "id": "OC11-n_dlt4K"
      }
    },
    {
      "cell_type": "markdown",
      "source": [
        "1. Write a Python program to print \"Hello, World!\"\n"
      ],
      "metadata": {
        "id": "fc2qqcuDlb6D"
      }
    },
    {
      "cell_type": "code",
      "source": [
        "print(\"Hello, World!\")"
      ],
      "metadata": {
        "colab": {
          "base_uri": "https://localhost:8080/"
        },
        "id": "oQPhrNOTlpGI",
        "outputId": "46cb68b6-424a-4c22-bf73-aadbb464cc43"
      },
      "execution_count": null,
      "outputs": [
        {
          "output_type": "stream",
          "name": "stdout",
          "text": [
            "Hello, World!\n"
          ]
        }
      ]
    },
    {
      "cell_type": "markdown",
      "source": [
        "2. Write a Python program that displays your name and age.\n"
      ],
      "metadata": {
        "id": "GnUBhJKPmA7K"
      }
    },
    {
      "cell_type": "code",
      "source": [
        "print(\"My name is Nikhil Paul and my age is 34.\")"
      ],
      "metadata": {
        "colab": {
          "base_uri": "https://localhost:8080/"
        },
        "id": "iz03mp8qlu_O",
        "outputId": "3ab803a4-3c6d-40d9-e01c-516ae30cfd7d"
      },
      "execution_count": 1,
      "outputs": [
        {
          "output_type": "stream",
          "name": "stdout",
          "text": [
            "My name is Nikhil Paul and my age is 34.\n"
          ]
        }
      ]
    },
    {
      "cell_type": "markdown",
      "source": [
        "3.  Write code to print all the pre-defined keywords in Python using the keyword library.\n"
      ],
      "metadata": {
        "id": "3GDGoD7dm2QP"
      }
    },
    {
      "cell_type": "code",
      "source": [
        "import keyword\n",
        "\n",
        "print(\"List of Python keywords:\")\n",
        "for keyword in keyword.kwlist:\n",
        "    print(keyword)\n"
      ],
      "metadata": {
        "colab": {
          "base_uri": "https://localhost:8080/"
        },
        "id": "nZ73IZMKmTx_",
        "outputId": "a3cad809-4a66-4dd9-d814-0deb1255dd03"
      },
      "execution_count": 2,
      "outputs": [
        {
          "output_type": "stream",
          "name": "stdout",
          "text": [
            "List of Python keywords:\n",
            "False\n",
            "None\n",
            "True\n",
            "and\n",
            "as\n",
            "assert\n",
            "async\n",
            "await\n",
            "break\n",
            "class\n",
            "continue\n",
            "def\n",
            "del\n",
            "elif\n",
            "else\n",
            "except\n",
            "finally\n",
            "for\n",
            "from\n",
            "global\n",
            "if\n",
            "import\n",
            "in\n",
            "is\n",
            "lambda\n",
            "nonlocal\n",
            "not\n",
            "or\n",
            "pass\n",
            "raise\n",
            "return\n",
            "try\n",
            "while\n",
            "with\n",
            "yield\n"
          ]
        }
      ]
    },
    {
      "cell_type": "markdown",
      "source": [
        "4. Write a program that checks if a given word is a Python keyword.\n",
        "\n",
        "\n"
      ],
      "metadata": {
        "id": "6fJ7JtqkoeWq"
      }
    },
    {
      "cell_type": "code",
      "source": [
        "import keyword\n",
        "\n",
        "a = input(\"Enter a word: \")\n",
        "\n",
        "if a in keyword.kwlist:\n",
        "    print(f\"{a} is a Python keyword.\")\n",
        "else:\n",
        "    print(f\"{a} is not a Python keyword.\")\n"
      ],
      "metadata": {
        "colab": {
          "base_uri": "https://localhost:8080/"
        },
        "id": "u1GhxzmMooMl",
        "outputId": "68c16dbf-3ec3-4b75-9095-2c386afa32b7"
      },
      "execution_count": 3,
      "outputs": [
        {
          "output_type": "stream",
          "name": "stdout",
          "text": [
            "Enter a word: abcd\n",
            "abcd is not a Python keyword.\n"
          ]
        }
      ]
    },
    {
      "cell_type": "markdown",
      "source": [
        "5. Create a list and tuple in Python, and demonstrate how attempting to change an element works differently for each."
      ],
      "metadata": {
        "id": "nW0eWZmyqi7-"
      }
    },
    {
      "cell_type": "code",
      "source": [
        "my_list = [1, 2, 3]\n",
        "my_tuple = (1, 2, 3)\n",
        "\n",
        "print(\"Initial list:\", my_list)\n",
        "my_list[1] = 99\n",
        "print(\"Updated list:\", my_list)\n",
        "\n",
        "print(\"\\nInitial tuple:\", my_tuple)\n",
        "try:\n",
        "    my_tuple[1] = 99\n",
        "except TypeError as e:\n",
        "    print(\"Error encountered:\", e)\n"
      ],
      "metadata": {
        "colab": {
          "base_uri": "https://localhost:8080/"
        },
        "id": "CL012IEHpqOZ",
        "outputId": "6e942c9d-8657-4489-e783-fc38fe0f3690"
      },
      "execution_count": 4,
      "outputs": [
        {
          "output_type": "stream",
          "name": "stdout",
          "text": [
            "Initial list: [1, 2, 3]\n",
            "Updated list: [1, 99, 3]\n",
            "\n",
            "Initial tuple: (1, 2, 3)\n",
            "Error encountered: 'tuple' object does not support item assignment\n"
          ]
        }
      ]
    },
    {
      "cell_type": "markdown",
      "source": [
        "6 and 7. Write a function to demonstrate the behavior of mutable and immutable arguments."
      ],
      "metadata": {
        "id": "N58J_kkDr3l6"
      }
    },
    {
      "cell_type": "code",
      "source": [
        "def mutable_and_immutable(a, b):\n",
        "    print(\"Before modifying immutable:\", a)\n",
        "    a += 1\n",
        "    print(\"After modifying immutable:\", a)\n",
        "\n",
        "    print(\"Before modifying mutable:\", b)\n",
        "    b.append(4)\n",
        "    print(\"After modifying mutable:\", b)\n",
        "\n",
        "immutable_var = 10\n",
        "mutable_var = [1, 2, 3]\n",
        "\n",
        "mutable_and_immutable(immutable_var, mutable_var)\n",
        "print(\"Outside function (immutable):\", immutable_var)\n",
        "print(\"Outside function (mutable):\", mutable_var)\n"
      ],
      "metadata": {
        "colab": {
          "base_uri": "https://localhost:8080/"
        },
        "id": "VDrarqFirFqW",
        "outputId": "6c1514ea-48e3-47e4-c208-ef14bb6da8c8"
      },
      "execution_count": 5,
      "outputs": [
        {
          "output_type": "stream",
          "name": "stdout",
          "text": [
            "Before modifying immutable: 10\n",
            "After modifying immutable: 11\n",
            "Before modifying mutable: [1, 2, 3]\n",
            "After modifying mutable: [1, 2, 3, 4]\n",
            "Outside function (immutable): 10\n",
            "Outside function (mutable): [1, 2, 3, 4]\n"
          ]
        }
      ]
    },
    {
      "cell_type": "markdown",
      "source": [
        "8. Write a program to demonstrate the use of logical operators.\n"
      ],
      "metadata": {
        "id": "EdAu1Lz3xU_h"
      }
    },
    {
      "cell_type": "code",
      "source": [
        "def evaluate_logical_conditions(x, y):\n",
        "    print(\"x =\", x, \", y =\", y)\n",
        "    print(\"AND Operation (x > 0 and y > 0):\", x > 0 and y > 0)\n",
        "    print(\"OR Operation (x > 0 or y > 0):\", x > 0 or y > 0)\n",
        "    print(\"NOT Operation (not x):\", not x)\n",
        "\n",
        "evaluate_logical_conditions(5, -3)\n",
        "evaluate_logical_conditions(0, 2)\n"
      ],
      "metadata": {
        "id": "9zy5Wzr8sK-w",
        "colab": {
          "base_uri": "https://localhost:8080/"
        },
        "outputId": "80dc5c0e-89aa-4cd4-d72f-0a82111a6101"
      },
      "execution_count": 6,
      "outputs": [
        {
          "output_type": "stream",
          "name": "stdout",
          "text": [
            "x = 5 , y = -3\n",
            "AND Operation (x > 0 and y > 0): False\n",
            "OR Operation (x > 0 or y > 0): True\n",
            "NOT Operation (not x): False\n",
            "x = 0 , y = 2\n",
            "AND Operation (x > 0 and y > 0): False\n",
            "OR Operation (x > 0 or y > 0): True\n",
            "NOT Operation (not x): True\n"
          ]
        }
      ]
    },
    {
      "cell_type": "markdown",
      "source": [
        "9. Write a Python program to convert user input from string to integer, float, and boolean types."
      ],
      "metadata": {
        "id": "gSNtG_C-xcg_"
      }
    },
    {
      "cell_type": "code",
      "source": [
        "input_value = input(\"Enter a value: \")\n",
        "\n",
        "try:\n",
        "    num_integer = int(input_value)\n",
        "    num_float = float(input_value)\n",
        "    num_boolean = bool(input_value)\n",
        "    print(\"Integer representation:\", num_integer)\n",
        "    print(\"Floating point representation:\", num_float)\n",
        "    print(\"Boolean representation:\", num_boolean)\n",
        "except ValueError:\n",
        "    print(\"Conversion failed. Please provide a numeric value.\")\n"
      ],
      "metadata": {
        "colab": {
          "base_uri": "https://localhost:8080/"
        },
        "id": "trNhJwwtxV8d",
        "outputId": "fbde98d0-b4a6-4a31-c4a0-6eef45c2f4c5"
      },
      "execution_count": 8,
      "outputs": [
        {
          "output_type": "stream",
          "name": "stdout",
          "text": [
            "Enter a value: 123\n",
            "Integer representation: 123\n",
            "Floating point representation: 123.0\n",
            "Boolean representation: True\n"
          ]
        }
      ]
    },
    {
      "cell_type": "markdown",
      "source": [
        "10. Write code to demonstrate type casting with list elements."
      ],
      "metadata": {
        "id": "02v3hNhUxlVA"
      }
    },
    {
      "cell_type": "code",
      "source": [
        "string_list = [\"10\", \"20\", \"30\", \"40\"]\n",
        "\n",
        "integer_conversion = []\n",
        "for item in string_list:\n",
        "    integer_conversion.append(int(item))\n",
        "print(\"Converted to Integers:\", integer_conversion)\n",
        "\n",
        "float_conversion = []\n",
        "for item in string_list:\n",
        "    float_conversion.append(float(item))\n",
        "print(\"Converted to Floats:\", float_conversion)\n"
      ],
      "metadata": {
        "colab": {
          "base_uri": "https://localhost:8080/"
        },
        "id": "vw56TPapxgqf",
        "outputId": "cd9ddd71-7291-4cdb-bfa6-e61fcb80f95e"
      },
      "execution_count": 9,
      "outputs": [
        {
          "output_type": "stream",
          "name": "stdout",
          "text": [
            "Converted to Integers: [10, 20, 30, 40]\n",
            "Converted to Floats: [10.0, 20.0, 30.0, 40.0]\n"
          ]
        }
      ]
    },
    {
      "cell_type": "markdown",
      "source": [
        "11. Write a program that checks if a number is positive, negative, or zero.\n",
        "\n"
      ],
      "metadata": {
        "id": "ITjuos05xqOA"
      }
    },
    {
      "cell_type": "code",
      "source": [
        "user_number = int(input(\"Enter a number: \"))\n",
        "\n",
        "if user_number > 0:\n",
        "    print(\"The number is Positive.\")\n",
        "elif user_number < 0:\n",
        "    print(\"The number is Negative.\")\n",
        "else:\n",
        "    print(\"The number is Zero.\")\n"
      ],
      "metadata": {
        "colab": {
          "base_uri": "https://localhost:8080/"
        },
        "id": "5s1tTrfYxn0m",
        "outputId": "eb010598-6634-46f9-e9e0-67625e25ec45"
      },
      "execution_count": 10,
      "outputs": [
        {
          "output_type": "stream",
          "name": "stdout",
          "text": [
            "Enter a number: 10\n",
            "The number is Positive.\n"
          ]
        }
      ]
    },
    {
      "cell_type": "markdown",
      "source": [
        "12. Write a for loop to print numbers from 1 to 10.\n"
      ],
      "metadata": {
        "id": "Giv6rn6GzDNB"
      }
    },
    {
      "cell_type": "code",
      "source": [
        "print(\"Counting from 1 to 10:\")\n",
        "for num in range(1, 11):\n",
        "    print(num, end=\" \")\n"
      ],
      "metadata": {
        "colab": {
          "base_uri": "https://localhost:8080/"
        },
        "id": "JYdXq-Y6xuIA",
        "outputId": "16cd6985-80ae-42db-e5b4-b296aa1f2599"
      },
      "execution_count": 11,
      "outputs": [
        {
          "output_type": "stream",
          "name": "stdout",
          "text": [
            "Counting from 1 to 10:\n",
            "1 2 3 4 5 6 7 8 9 10 "
          ]
        }
      ]
    },
    {
      "cell_type": "markdown",
      "source": [
        "13. Write a Python program to find the sum of all even numbers between 1 and 50."
      ],
      "metadata": {
        "id": "53or1C1tz32p"
      }
    },
    {
      "cell_type": "code",
      "source": [
        "total_even_sum = 0\n",
        "for number in range(1, 51):\n",
        "    if number % 2 == 0:\n",
        "        total_even_sum += number\n",
        "\n",
        "print(\"The sum of all even numbers between 1 and 50 is:\", total_even_sum)"
      ],
      "metadata": {
        "colab": {
          "base_uri": "https://localhost:8080/"
        },
        "id": "WwuwRnLYzHS9",
        "outputId": "444c7c38-724f-41ce-cfbf-97ebe7afb67a"
      },
      "execution_count": 13,
      "outputs": [
        {
          "output_type": "stream",
          "name": "stdout",
          "text": [
            "The sum of all even numbers between 1 and 50 is: 650\n"
          ]
        }
      ]
    },
    {
      "cell_type": "markdown",
      "source": [
        "14. Write a program to reverse a string using a while loop."
      ],
      "metadata": {
        "id": "1tKzcynI0Awi"
      }
    },
    {
      "cell_type": "code",
      "source": [
        "input_string = input(\"Enter a string to reverse: \")\n",
        "\n",
        "reversed_version = \"\"\n",
        "index = len(input_string) - 1\n",
        "\n",
        "while index >= 0:\n",
        "    reversed_version = reversed_version + input_string[index]\n",
        "    index -= 1\n",
        "\n",
        "print(\"Reversed string:\", reversed_version)\n"
      ],
      "metadata": {
        "colab": {
          "base_uri": "https://localhost:8080/"
        },
        "id": "fDdZFNdgz9zH",
        "outputId": "c3052e92-bcce-4ff9-9dee-074c90e84fda"
      },
      "execution_count": 14,
      "outputs": [
        {
          "output_type": "stream",
          "name": "stdout",
          "text": [
            "Enter a string to reverse: 7uuf\n",
            "Reversed string: fuu7\n"
          ]
        }
      ]
    },
    {
      "cell_type": "markdown",
      "source": [
        "15. Write a Python program to calculate the factorial of a number provided by the user using a while loop."
      ],
      "metadata": {
        "id": "UQlgJVFR0L3T"
      }
    },
    {
      "cell_type": "code",
      "source": [
        "number = int(input(\"Enter a number to calculate its factorial: \"))\n",
        "\n",
        "result = 1\n",
        "counter = 1\n",
        "\n",
        "while counter <= number:\n",
        "    result *= counter\n",
        "    counter += 1\n",
        "\n",
        "print(f\"The factorial of {number} is: {result}\")\n"
      ],
      "metadata": {
        "colab": {
          "base_uri": "https://localhost:8080/"
        },
        "id": "Nx7AodWS0I2D",
        "outputId": "9ec04a82-2a6c-47f6-ad95-ad9b3e12aa27"
      },
      "execution_count": 15,
      "outputs": [
        {
          "output_type": "stream",
          "name": "stdout",
          "text": [
            "Enter a number to calculate its factorial: 4\n",
            "The factorial of 4 is: 24\n"
          ]
        }
      ]
    },
    {
      "cell_type": "code",
      "source": [],
      "metadata": {
        "id": "okIaKJPU0R8g"
      },
      "execution_count": null,
      "outputs": []
    }
  ]
}